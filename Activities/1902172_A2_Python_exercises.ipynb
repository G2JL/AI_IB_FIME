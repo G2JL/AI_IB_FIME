{
  "nbformat": 4,
  "nbformat_minor": 0,
  "metadata": {
    "colab": {
      "provenance": [],
      "toc_visible": true,
      "authorship_tag": "ABX9TyNvAMDEtEiYK5ioHPJVGRce",
      "include_colab_link": true
    },
    "kernelspec": {
      "name": "python3",
      "display_name": "Python 3"
    },
    "language_info": {
      "name": "python"
    }
  },
  "cells": [
    {
      "cell_type": "markdown",
      "metadata": {
        "id": "view-in-github",
        "colab_type": "text"
      },
      "source": [
        "<a href=\"https://colab.research.google.com/github/G2JL/AI_IB_FIME/blob/main/Activities/1902172_A2_Python_exercises.ipynb\" target=\"_parent\"><img src=\"https://colab.research.google.com/assets/colab-badge.svg\" alt=\"Open In Colab\"/></a>"
      ]
    },
    {
      "cell_type": "markdown",
      "source": [
        "**Juan Luis García Gaspar _ 1902172 _ Thursday _ N1**"
      ],
      "metadata": {
        "id": "gO16sjSZqbei"
      }
    },
    {
      "cell_type": "markdown",
      "source": [
        "**Goal.-**\n",
        "\n",
        "\n",
        "*   Practice Python syntax and programming logic.\n",
        "\n",
        "*   Get to know Google Colab interface.\n",
        "\n",
        "**Instructions.-**\n"
      ],
      "metadata": {
        "id": "5kNdVBR_qumJ"
      }
    },
    {
      "cell_type": "markdown",
      "source": [
        "# PRACTICE"
      ],
      "metadata": {
        "id": "wWewe6uqgBAc"
      }
    },
    {
      "cell_type": "markdown",
      "source": [
        "##1.  **Text Analysis Tool:**"
      ],
      "metadata": {
        "id": "vGOBulfQgPis"
      }
    },
    {
      "cell_type": "markdown",
      "source": [
        "Create a Python program that reads a text file and performs various analyses on its content.\n",
        "The program should: Count the number of words, sentences, and paragraphs. Calculate the average word length. Identify the most common words and their frequencies."
      ],
      "metadata": {
        "id": "OzuJmLyugftW"
      }
    },
    {
      "cell_type": "code",
      "execution_count": 118,
      "metadata": {
        "id": "X8zk9FQRqKLv",
        "colab": {
          "base_uri": "https://localhost:8080/"
        },
        "outputId": "b9b91042-40c4-4504-de18-f5dc6a41fceb"
      },
      "outputs": [
        {
          "output_type": "stream",
          "name": "stdout",
          "text": [
            "\u001b[1;36mWord Count:\u001b[0m 149\n",
            "\u001b[1;33mSentence Count:\u001b[0m 13\n",
            "\u001b[1;35mParagraph Count:\u001b[0m 5 \n",
            "\n",
            "\u001b[1;32mAverage Word Length:\u001b[0m 5.362\n",
            "\n",
            "\u001b[4;32mMost Common Words:\u001b[0m\n",
            "1. la: 15\n",
            "2. educación: 7\n",
            "3. y: 7\n"
          ]
        }
      ],
      "source": [
        "import re\n",
        "from collections import Counter\n",
        "from simple_colors import *\n",
        "import simple_colors as sc\n",
        "\n",
        "# Function to read the content of a text file\n",
        "def read_text_file(file_path):\n",
        "    with open(file_path, 'r', encoding='utf-8') as file:\n",
        "        text = file.read()\n",
        "    return text\n",
        "\n",
        "# Function to count the number of words in the text\n",
        "def count_words(text):\n",
        "    words = re.findall(r'\\b\\w+\\b', text)  # Use regular expression to find all words\n",
        "    return len(words)\n",
        "\n",
        "# Function to count the number of sentences in the text\n",
        "def count_sentences(text):\n",
        "    sentences = re.split(r'[.!?]', text)  # Split text into sentences using punctuation\n",
        "    return len(sentences)\n",
        "\n",
        "# Function to count the number of paragraphs in the text\n",
        "def count_paragraphs(text):\n",
        "    paragraphs = text.split('\\n\\n')  # Split text into paragraphs based on double newline\n",
        "    return len(paragraphs)\n",
        "\n",
        "# Function to calculate the average word length in the text\n",
        "def average_word_length(text):\n",
        "    words = re.findall(r'\\b\\w+\\b', text)  # Find all words\n",
        "    total_length = sum(len(word) for word in words)  # Calculate total length of all words\n",
        "    return total_length / len(words)  # Calculate average length\n",
        "\n",
        "# Function to find the most common words and their frequencies in the text\n",
        "def most_common_words(text, num_words=3):\n",
        "    words = re.findall(r'\\b\\w+\\b', text.lower())  # Find all words and convert to lowercase\n",
        "    word_counts = Counter(words)  # Count the frequency of each word\n",
        "    return word_counts.most_common(num_words)  # Return the most common words\n",
        "\n",
        "if __name__ == \"__main__\":\n",
        "    file_path = \"IA_sample.txt\"  # Path of the text file you'll use.\n",
        "    test_file = read_text_file(file_path)\n",
        "\n",
        "    # Perform the various analyses and display the results\n",
        "    word_count = count_words(test_file)\n",
        "    sentence_count = count_sentences(test_file)\n",
        "    paragraph_count = count_paragraphs(test_file)\n",
        "    avg_word_length = average_word_length(test_file)\n",
        "    common_words = most_common_words(test_file)\n",
        "\n",
        "    print(sc.cyan(\"Word Count:\", 'bold'), word_count)\n",
        "    print(sc.yellow(\"Sentence Count:\", 'bold'), sentence_count)\n",
        "    print(sc.magenta(\"Paragraph Count:\", 'bold'),paragraph_count,\"\\n\")\n",
        "    print(sc.green(\"Average Word Length:\", 'bold'), f\"{avg_word_length:.3f}\\n\")\n",
        "    print(sc.green(\"Most Common Words:\", 'underlined') )\n",
        "    for i, (word, count) in enumerate(common_words, start=1):\n",
        "        print(f\"{i}. {word}: {count}\")"
      ]
    },
    {
      "cell_type": "markdown",
      "source": [
        "##2.  **Hangman Game:**"
      ],
      "metadata": {
        "id": "itPhYFgxgnrV"
      }
    },
    {
      "cell_type": "markdown",
      "source": [
        "Create a Python program that allows a user to play the game of Hangman. The program should randomly select a word from a predefined list, and the player must guess letters one at a time until they guess the word correctly or run out of attempts.\n"
      ],
      "metadata": {
        "id": "4FoWUFwoqXaz"
      }
    },
    {
      "cell_type": "code",
      "source": [
        "import random\n",
        "from simple_colors import *\n",
        "import simple_colors as sc\n",
        "\n",
        "# List of words to choose from\n",
        "wrds = [\"algorithm\",\"machine\",\"learning\",\"neural\",\"network\",\"data\",\"model\",\n",
        "        \"deep\",\"intelligence\",\"recognition\",\"artificial\",\"training\",\n",
        "        \"natural\",\"language\",\"robotics\",\"computer\",\"vision\",\"prediction\"]\n",
        "\n",
        "# Choose a random word from the list\n",
        "word = random.choice(wrds)\n",
        "word = word.lower()  # Convert the word to lowercase for consistency\n",
        "\n",
        "# Initialize variables\n",
        "attempts = 6  # Number of allowed attempts\n",
        "guessed_letters = []\n",
        "correct_letters = [\"_\"] * len(word)\n",
        "\n",
        "# Game loop\n",
        "while attempts > 0 and \"_\" in correct_letters:\n",
        "    # Display the current state of the word\n",
        "    print(\" \".join(correct_letters))\n",
        "\n",
        "    # Prompt the player for a letter guess\n",
        "    Letter = input(\"Guess a letter: \").lower()\n",
        "\n",
        "    # Check if the guessed letter is valid\n",
        "    if len(Letter) != 1 or not Letter.isalpha():\n",
        "        print(\"Please enter just a single letter.\")\n",
        "        continue\n",
        "\n",
        "    # Check if the letter has already been guessed\n",
        "    if Letter in guessed_letters:\n",
        "        print(sc.yellow(\"     hYou've already guessed that letter.\", 'italic'))\n",
        "        continue\n",
        "\n",
        "    guessed_letters.append(Letter)\n",
        "\n",
        "    # Check if the guessed letter is in the word\n",
        "    if Letter in word:\n",
        "        print(sc.cyan(\"Correct!\"))\n",
        "        for i in range(len(word)):\n",
        "            if word[i] == Letter:\n",
        "                correct_letters[i] = Letter\n",
        "    else:\n",
        "        if attempts == 2:\n",
        "          print(sc.red(\"Last chance...\", 'blink'))\n",
        "          attempts -= 1\n",
        "        else:\n",
        "            print(sc.yellow(\"Try another...\"))\n",
        "            attempts -= 1\n",
        "\n",
        "# Game over\n",
        "if \"_\" not in correct_letters:\n",
        "    print(sc.green(\"Congratulations! You WIN. Your word:\", 'bold'), word.upper())\n",
        "else:\n",
        "    print(sc.red(\"You LOOSE x_x . The word was:\", 'bold'), word.upper())\n"
      ],
      "metadata": {
        "colab": {
          "base_uri": "https://localhost:8080/"
        },
        "id": "eAbPuSILsEea",
        "outputId": "eda750ff-9024-4757-a7a3-d5508114b86a"
      },
      "execution_count": 120,
      "outputs": [
        {
          "output_type": "stream",
          "name": "stdout",
          "text": [
            "_ _ _ _ _ _ _ _ _ _\n",
            "Guess a letter: a\n",
            "\u001b[33mTry another...\u001b[0m\n",
            "_ _ _ _ _ _ _ _ _ _\n",
            "Guess a letter: e\n",
            "\u001b[36mCorrect!\u001b[0m\n",
            "_ _ e _ _ _ _ _ _ _\n",
            "Guess a letter: i\n",
            "\u001b[36mCorrect!\u001b[0m\n",
            "_ _ e _ i _ _ i _ _\n",
            "Guess a letter: o\n",
            "\u001b[36mCorrect!\u001b[0m\n",
            "_ _ e _ i _ _ i o _\n",
            "Guess a letter: a\n",
            "\u001b[3;33m     You've already guessed that letter.\u001b[0m\n",
            "_ _ e _ i _ _ i o _\n",
            "Guess a letter: e\n",
            "\u001b[3;33m     You've already guessed that letter.\u001b[0m\n",
            "_ _ e _ i _ _ i o _\n",
            "Guess a letter: c\n",
            "\u001b[36mCorrect!\u001b[0m\n",
            "_ _ e _ i c _ i o _\n",
            "Guess a letter: t\n",
            "\u001b[36mCorrect!\u001b[0m\n",
            "_ _ e _ i c t i o _\n",
            "Guess a letter: n\n",
            "\u001b[36mCorrect!\u001b[0m\n",
            "_ _ e _ i c t i o n\n",
            "Guess a letter: r\n",
            "\u001b[36mCorrect!\u001b[0m\n",
            "_ r e _ i c t i o n\n",
            "Guess a letter: \n",
            "Please enter just a single letter.\n",
            "_ r e _ i c t i o n\n",
            "Guess a letter: h\n",
            "\u001b[33mTry another...\u001b[0m\n",
            "_ r e _ i c t i o n\n",
            "Guess a letter: p\n",
            "\u001b[36mCorrect!\u001b[0m\n",
            "p r e _ i c t i o n\n",
            "Guess a letter: d\n",
            "\u001b[36mCorrect!\u001b[0m\n",
            "\u001b[1;32mCongratulations! You WIN. Your word:\u001b[0m PREDICTION\n"
          ]
        }
      ]
    },
    {
      "cell_type": "markdown",
      "source": [
        "##3.  **Number Guessing Game:**"
      ],
      "metadata": {
        "id": "gAlqyKO8gzLQ"
      }
    },
    {
      "cell_type": "markdown",
      "source": [
        " Create a program that generates a random number between 1 and 100, and then asks the user to guess the number. The program should provide hints to the user if the guessed number is greater or less than the target number, and keep asking for a new guess until the user guesses correctly."
      ],
      "metadata": {
        "id": "7jb5kBoWsFAN"
      }
    },
    {
      "cell_type": "code",
      "source": [
        "import random\n",
        "from simple_colors import *\n",
        "import simple_colors as sc\n",
        "\n",
        "print(sc.black(\"This is a Guessing GAME!\", 'underlined'))\n",
        "print(sc.cyan(\"I'm thinking of a number between 1 and 100.\", 'bold'))\n",
        "\n",
        "# Generate a random number between 1 and 100\n",
        "number = random.randint(1, 100)\n",
        "#Ask for a number\n",
        "user = int(input(\"Give me a number: \"))\n",
        "# Game loop\n",
        "while user != number:\n",
        "    try:\n",
        "        # Check if the guess is correct\n",
        "        if user < number:\n",
        "            print(sc.green(\"↑↑ My number is greater. Try again. ↑↑\"))\n",
        "            user = int(input(\"\\nGive me a number: \"))\n",
        "        else:\n",
        "            print(sc.red(\"↓↓ My number is smaller. Try again. ↓↓\"))\n",
        "            user = int(input(\"\\nGive me a number: \"))\n",
        "    except ValueError:\n",
        "        print(\"Please enter a valid number.\")\n",
        "if user == number:\n",
        "          print(sc.magenta(\"Congratulations! I was thinking about the number: \", 'bold'), number)"
      ],
      "metadata": {
        "colab": {
          "base_uri": "https://localhost:8080/"
        },
        "id": "m1nzh7fyJzoa",
        "outputId": "4097b567-2c12-4236-bdc0-457cd81e2a01"
      },
      "execution_count": 122,
      "outputs": [
        {
          "output_type": "stream",
          "name": "stdout",
          "text": [
            "\u001b[4;30mThis is a Guessing GAME!\u001b[0m\n",
            "\u001b[1;36mI'm thinking of a number between 1 and 100.\u001b[0m\n",
            "Give me a number: 50\n",
            "\u001b[32m↑↑ My number is greater. Try again. ↑↑\u001b[0m\n",
            "\n",
            "Give me a number: 90\n",
            "\u001b[31m↓↓ My number is smaller. Try again. ↓↓\u001b[0m\n",
            "\n",
            "Give me a number: 70\n",
            "\u001b[32m↑↑ My number is greater. Try again. ↑↑\u001b[0m\n",
            "\n",
            "Give me a number: 80\n",
            "\u001b[32m↑↑ My number is greater. Try again. ↑↑\u001b[0m\n",
            "\n",
            "Give me a number: 85\n",
            "\u001b[32m↑↑ My number is greater. Try again. ↑↑\u001b[0m\n",
            "\n",
            "Give me a number: 86\n",
            "\u001b[32m↑↑ My number is greater. Try again. ↑↑\u001b[0m\n",
            "\n",
            "Give me a number: 87\n",
            "\u001b[32m↑↑ My number is greater. Try again. ↑↑\u001b[0m\n",
            "\n",
            "Give me a number: 88\n",
            "\u001b[1;35mCongratulations! I was thinking about the number: \u001b[0m 88\n"
          ]
        }
      ]
    },
    {
      "cell_type": "markdown",
      "source": [
        "##Extra"
      ],
      "metadata": {
        "id": "eSSiqQasg49h"
      }
    },
    {
      "cell_type": "markdown",
      "source": [
        "Cooler hangman just for practice:"
      ],
      "metadata": {
        "id": "DMscBDpWZHKH"
      }
    },
    {
      "cell_type": "code",
      "source": [
        "import random\n",
        "from simple_colors import *\n",
        "import simple_colors as sc\n",
        "\n",
        "def draw_hangman(attempts):\n",
        "    hangman_figures = [\n",
        "        \"\"\"\n",
        "           -----\n",
        "           |   |\n",
        "               |\n",
        "               |\n",
        "               |\n",
        "               |\n",
        "        \"\"\",\n",
        "        \"\"\"\n",
        "           -----\n",
        "           |   |\n",
        "           O   |\n",
        "               |\n",
        "               |\n",
        "               |\n",
        "        \"\"\",\n",
        "        \"\"\"\n",
        "           -----\n",
        "           |   |\n",
        "           O   |\n",
        "           |   |\n",
        "               |\n",
        "               |\n",
        "        \"\"\",\n",
        "        \"\"\"\n",
        "           -----\n",
        "           |   |\n",
        "           O   |\n",
        "          /|   |\n",
        "               |\n",
        "               |\n",
        "        \"\"\",\n",
        "        \"\"\"\n",
        "           -----\n",
        "           |   |\n",
        "           O   |\n",
        "          /|\\\\  |\n",
        "               |\n",
        "               |\n",
        "        \"\"\",\n",
        "        \"\"\"\n",
        "           -----\n",
        "           |   |\n",
        "           O   |\n",
        "          /|\\\\  |\n",
        "          /    |\n",
        "               |\n",
        "        \"\"\",\n",
        "        \"\"\"\n",
        "           -----\n",
        "           |   |\n",
        "           O   |\n",
        "          /|\\\\  |\n",
        "          / \\\\  |\n",
        "               |\n",
        "        \"\"\"\n",
        "    ]\n",
        "\n",
        "    if attempts >= 0 and attempts < len(hangman_figures):\n",
        "        print(hangman_figures[attempts])\n",
        "\n",
        "\n",
        "# List of words to choose from\n",
        "wrds = [\"algorithm\", \"machine\", \"learning\", \"neural\", \"network\", \"data\", \"model\",\n",
        "        \"deep\", \"intelligence\", \"recognition\", \"artificial\", \"training\",\n",
        "        \"natural\", \"language\", \"robotics\", \"computer\", \"vision\", \"prediction\"]\n",
        "\n",
        "# Choose a random word from the list\n",
        "word = random.choice(wrds)\n",
        "word = word.lower()  # Convert the word to lowercase for consistency\n",
        "\n",
        "# Initialize variables\n",
        "attempts = 6  # Number of allowed attempts\n",
        "guessed_letters = []\n",
        "correct_letters = [\"_\"] * len(word)\n",
        "\n",
        "# Game loop\n",
        "while attempts >= 0 and \"_\" in correct_letters:\n",
        "    # Display the current state of the word\n",
        "    print(\" \".join(correct_letters))\n",
        "\n",
        "    # Prompt the player for a letter guess\n",
        "    if attempts == 0:\n",
        "      Letter = input(sc.red(\"Last chance: \", 'blink')).lower()\n",
        "    else:\n",
        "      Letter = input(\"Guess a letter: \").lower()\n",
        "\n",
        "    # Check if the guessed letter is valid\n",
        "    if len(Letter) != 1 or not Letter.isalpha():\n",
        "        print(\"Please enter just a single letter.\")\n",
        "        continue\n",
        "\n",
        "    # Check if the letter has already been guessed\n",
        "    if Letter in guessed_letters:\n",
        "        print(sc.blue(\"You've already guessed that letter.\", 'italic'))\n",
        "        continue\n",
        "\n",
        "    guessed_letters.append(Letter)\n",
        "\n",
        "    # Check if the guessed letter is in the word\n",
        "    if Letter in word:\n",
        "        print(sc.cyan(\"Correct!\"))\n",
        "        for i in range(len(word)):\n",
        "            if word[i] == Letter:\n",
        "                correct_letters[i] = Letter\n",
        "    else:\n",
        "        if attempts!= 0:\n",
        "          draw_hangman(6 - attempts)  # Call draw_hangman to display Hangman figure\n",
        "          print(sc.yellow(\"Try another...\"))\n",
        "          attempts -= 1\n",
        "        else:\n",
        "          draw_hangman(6 - attempts)  # Call draw_hangman to display Hangman figure\n",
        "          break\n",
        "\n",
        "\n",
        "# Game over\n",
        "if \"_\" not in correct_letters:\n",
        "    print(sc.green(\"Congratulations! You WIN. Your word:\", 'bold'), word.upper())\n",
        "else:\n",
        "    print(sc.red(\"You LOOSE x_x . The word was:\", 'bold'), word.upper())\n"
      ],
      "metadata": {
        "colab": {
          "base_uri": "https://localhost:8080/"
        },
        "id": "XJ5i6BS7MHB_",
        "outputId": "9089be5f-ebe3-4096-9468-deeb1ada8597"
      },
      "execution_count": 123,
      "outputs": [
        {
          "output_type": "stream",
          "name": "stdout",
          "text": [
            "_ _ _ _ _ _ _ _ _ _\n",
            "Guess a letter: j\n",
            "\n",
            "           -----\n",
            "           |   |\n",
            "               |\n",
            "               |\n",
            "               |\n",
            "               |\n",
            "        \n",
            "\u001b[33mTry another...\u001b[0m\n",
            "_ _ _ _ _ _ _ _ _ _\n",
            "Guess a letter: a\n",
            "\u001b[36mCorrect!\u001b[0m\n",
            "a _ _ _ _ _ _ _ a _\n",
            "Guess a letter: e\n",
            "\n",
            "           -----\n",
            "           |   |\n",
            "           O   |\n",
            "               |\n",
            "               |\n",
            "               |\n",
            "        \n",
            "\u001b[33mTry another...\u001b[0m\n",
            "a _ _ _ _ _ _ _ a _\n",
            "Guess a letter: i\n",
            "\u001b[36mCorrect!\u001b[0m\n",
            "a _ _ i _ i _ i a _\n",
            "Guess a letter: o\n",
            "\n",
            "           -----\n",
            "           |   |\n",
            "           O   |\n",
            "           |   |\n",
            "               |\n",
            "               |\n",
            "        \n",
            "\u001b[33mTry another...\u001b[0m\n",
            "a _ _ i _ i _ i a _\n",
            "Guess a letter: r\n",
            "\u001b[36mCorrect!\u001b[0m\n",
            "a r _ i _ i _ i a _\n",
            "Guess a letter: x\n",
            "\n",
            "           -----\n",
            "           |   |\n",
            "           O   |\n",
            "          /|   |\n",
            "               |\n",
            "               |\n",
            "        \n",
            "\u001b[33mTry another...\u001b[0m\n",
            "a r _ i _ i _ i a _\n",
            "Guess a letter: v\n",
            "\n",
            "           -----\n",
            "           |   |\n",
            "           O   |\n",
            "          /|\\  |\n",
            "               |\n",
            "               |\n",
            "        \n",
            "\u001b[33mTry another...\u001b[0m\n",
            "a r _ i _ i _ i a _\n",
            "Guess a letter: ñ\n",
            "\n",
            "           -----\n",
            "           |   |\n",
            "           O   |\n",
            "          /|\\  |\n",
            "          /    |\n",
            "               |\n",
            "        \n",
            "\u001b[33mTry another...\u001b[0m\n",
            "a r _ i _ i _ i a _\n",
            "\u001b[5;31mLast chance: \u001b[0mt\n",
            "\u001b[36mCorrect!\u001b[0m\n",
            "a r t i _ i _ i a _\n",
            "\u001b[5;31mLast chance: \u001b[0mf\n",
            "\u001b[36mCorrect!\u001b[0m\n",
            "a r t i f i _ i a _\n",
            "\u001b[5;31mLast chance: \u001b[0mc\n",
            "\u001b[36mCorrect!\u001b[0m\n",
            "a r t i f i c i a _\n",
            "\u001b[5;31mLast chance: \u001b[0ml\n",
            "\u001b[36mCorrect!\u001b[0m\n",
            "\u001b[1;32mCongratulations! You WIN. Your word:\u001b[0m ARTIFICIAL\n"
          ]
        }
      ]
    }
  ]
}