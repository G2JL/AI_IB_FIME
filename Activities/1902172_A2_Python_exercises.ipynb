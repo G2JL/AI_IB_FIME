{
  "nbformat": 4,
  "nbformat_minor": 0,
  "metadata": {
    "colab": {
      "provenance": [],
      "authorship_tag": "ABX9TyPGnAgZckDHxNYv1SeAV2ZF",
      "include_colab_link": true
    },
    "kernelspec": {
      "name": "python3",
      "display_name": "Python 3"
    },
    "language_info": {
      "name": "python"
    }
  },
  "cells": [
    {
      "cell_type": "markdown",
      "metadata": {
        "id": "view-in-github",
        "colab_type": "text"
      },
      "source": [
        "<a href=\"https://colab.research.google.com/github/G2JL/AI_IB_FIME/blob/main/Activities/1902172_A2_Python_exercises.ipynb\" target=\"_parent\"><img src=\"https://colab.research.google.com/assets/colab-badge.svg\" alt=\"Open In Colab\"/></a>"
      ]
    },
    {
      "cell_type": "markdown",
      "source": [
        "**Juan Luis García Gaspar _ 1902172 _ Thursday _ N1**"
      ],
      "metadata": {
        "id": "gO16sjSZqbei"
      }
    },
    {
      "cell_type": "markdown",
      "source": [
        "**Goal.-**\n",
        "\n",
        "\n",
        "*   Practice Python syntax and programming logic.\n",
        "\n",
        "*   Get to know Google Colab interface.\n",
        "\n",
        "**Instructions.-**\n"
      ],
      "metadata": {
        "id": "5kNdVBR_qumJ"
      }
    },
    {
      "cell_type": "markdown",
      "source": [
        "# PRACTICE"
      ],
      "metadata": {
        "id": "wWewe6uqgBAc"
      }
    },
    {
      "cell_type": "markdown",
      "source": [
        "##1.  **Text Analysis Tool:**"
      ],
      "metadata": {
        "id": "vGOBulfQgPis"
      }
    },
    {
      "cell_type": "markdown",
      "source": [
        "Create a Python program that reads a text file and performs various analyses on its content.\n",
        "The program should: Count the number of words, sentences, and paragraphs. Calculate the average word length. Identify the most common words and their frequencies."
      ],
      "metadata": {
        "id": "OzuJmLyugftW"
      }
    },
    {
      "cell_type": "code",
      "execution_count": null,
      "metadata": {
        "id": "X8zk9FQRqKLv"
      },
      "outputs": [],
      "source": [
        "import re\n",
        "from collections import Counter\n",
        "from simple_colors import *\n",
        "import simple_colors as sc\n",
        "\n",
        "# Function to read the content of a text file\n",
        "def read_text_file(file_path):\n",
        "    with open(file_path, 'r', encoding='utf-8') as file:\n",
        "        text = file.read()\n",
        "    return text\n",
        "\n",
        "# Function to count the number of words in the text\n",
        "def count_words(text):\n",
        "    words = re.findall(r'\\b\\w+\\b', text)  # Use regular expression to find all words\n",
        "    return len(words)\n",
        "\n",
        "# Function to count the number of sentences in the text\n",
        "def count_sentences(text):\n",
        "    sentences = re.split(r'[.!?]', text)  # Split text into sentences using punctuation\n",
        "    return len(sentences)\n",
        "\n",
        "# Function to count the number of paragraphs in the text\n",
        "def count_paragraphs(text):\n",
        "    paragraphs = text.split('\\n\\n')  # Split text into paragraphs based on double newline\n",
        "    return len(paragraphs)\n",
        "\n",
        "# Function to calculate the average word length in the text\n",
        "def average_word_length(text):\n",
        "    words = re.findall(r'\\b\\w+\\b', text)  # Find all words\n",
        "    total_length = sum(len(word) for word in words)  # Calculate total length of all words\n",
        "    return total_length / len(words)  # Calculate average length\n",
        "\n",
        "# Function to find the most common words and their frequencies in the text\n",
        "def most_common_words(text, num_words=3):\n",
        "    words = re.findall(r'\\b\\w+\\b', text.lower())  # Find all words and convert to lowercase\n",
        "    word_counts = Counter(words)  # Count the frequency of each word\n",
        "    return word_counts.most_common(num_words)  # Return the most common words\n",
        "\n",
        "if __name__ == \"__main__\":\n",
        "    file_path = \"IA_sample.txt\"  # Path of the text file you'll use.\n",
        "    test_file = read_text_file(file_path)\n",
        "\n",
        "    # Perform the various analyses and display the results\n",
        "    word_count = count_words(test_file)\n",
        "    sentence_count = count_sentences(test_file)\n",
        "    paragraph_count = count_paragraphs(test_file)\n",
        "    avg_word_length = average_word_length(test_file)\n",
        "    common_words = most_common_words(test_file)\n",
        "\n",
        "    print(sc.cyan(\"Word Count:\", 'bold'), word_count)\n",
        "    print(sc.yellow(\"Sentence Count:\", 'bold'), sentence_count)\n",
        "    print(sc.magenta(\"Paragraph Count:\", 'bold'),paragraph_count,\"\\n\")\n",
        "    print(sc.green(\"Average Word Length:\", 'bold'), f\"{avg_word_length:.3f}\\n\")\n",
        "    print(sc.green(\"Most Common Words:\", 'underlined') )\n",
        "    for i, (word, count) in enumerate(common_words, start=1):\n",
        "        print(f\"{i}. {word}: {count}\")"
      ]
    },
    {
      "cell_type": "markdown",
      "source": [
        "##2.  **Hangman Game:**"
      ],
      "metadata": {
        "id": "itPhYFgxgnrV"
      }
    },
    {
      "cell_type": "markdown",
      "source": [
        "Create a Python program that allows a user to play the game of Hangman. The program should randomly select a word from a predefined list, and the player must guess letters one at a time until they guess the word correctly or run out of attempts.\n"
      ],
      "metadata": {
        "id": "4FoWUFwoqXaz"
      }
    },
    {
      "cell_type": "code",
      "source": [
        "import random\n",
        "from simple_colors import *\n",
        "import simple_colors as sc\n",
        "\n",
        "# List of words to choose from\n",
        "wrds = [\"algorithm\",\"machine\",\"learning\",\"neural\",\"network\",\"data\",\"model\",\n",
        "        \"deep\",\"intelligence\",\"recognition\",\"artificial\",\"training\",\n",
        "        \"natural\",\"language\",\"robotics\",\"computer\",\"vision\",\"prediction\"]\n",
        "\n",
        "# Choose a random word from the list\n",
        "word = random.choice(wrds)\n",
        "word = word.lower()  # Convert the word to lowercase for consistency\n",
        "\n",
        "# Initialize variables\n",
        "attempts = 6  # Number of allowed attempts\n",
        "guessed_letters = []\n",
        "correct_letters = [\"_\"] * len(word)\n",
        "\n",
        "# Game loop\n",
        "while attempts > 0 and \"_\" in correct_letters:\n",
        "    # Display the current state of the word\n",
        "    print(\" \".join(correct_letters))\n",
        "\n",
        "    # Prompt the player for a letter guess\n",
        "    Letter = input(\"Guess a letter: \").lower()\n",
        "\n",
        "    # Check if the guessed letter is valid\n",
        "    if len(Letter) != 1 or not Letter.isalpha():\n",
        "        print(\"Please enter just a single letter.\")\n",
        "        continue\n",
        "\n",
        "    # Check if the letter has already been guessed\n",
        "    if Letter in guessed_letters:\n",
        "        print(\"You've already guessed that letter.\")\n",
        "        continue\n",
        "\n",
        "    guessed_letters.append(Letter)\n",
        "\n",
        "    # Check if the guessed letter is in the word\n",
        "    if Letter in word:\n",
        "        print(sc.cyan(\"Correct!\"))\n",
        "        for i in range(len(word)):\n",
        "            if word[i] == Letter:\n",
        "                correct_letters[i] = Letter\n",
        "    else:\n",
        "        if attempts == 2:\n",
        "          print(sc.red(\"Last chance...\", 'blink'))\n",
        "          attempts -= 1\n",
        "        else:\n",
        "            print(sc.yellow(\"Try another...\"))\n",
        "            attempts -= 1\n",
        "\n",
        "# Game over\n",
        "if \"_\" not in correct_letters:\n",
        "    print(sc.green(\"Congratulations! You WIN. Your word:\", 'bold'), word.upper())\n",
        "else:\n",
        "    print(sc.red(\"You LOOSE x_x . The word was:\", 'bold'), word.upper())\n"
      ],
      "metadata": {
        "id": "eAbPuSILsEea"
      },
      "execution_count": null,
      "outputs": []
    },
    {
      "cell_type": "markdown",
      "source": [
        "##3.  **Number Guessing Game:**"
      ],
      "metadata": {
        "id": "gAlqyKO8gzLQ"
      }
    },
    {
      "cell_type": "markdown",
      "source": [
        " Create a program that generates a random number between 1 and 100, and then asks the user to guess the number. The program should provide hints to the user if the guessed number is greater or less than the target number, and keep asking for a new guess until the user guesses correctly."
      ],
      "metadata": {
        "id": "7jb5kBoWsFAN"
      }
    },
    {
      "cell_type": "code",
      "source": [
        "import random\n",
        "from simple_colors import *\n",
        "import simple_colors as sc\n",
        "\n",
        "print(sc.black(\"This is a Guessing GAME!\", 'underlined'))\n",
        "print(sc.cyan(\"I'm thinking of a number between 1 and 100.\", 'bold'))\n",
        "\n",
        "# Generate a random number between 1 and 100\n",
        "number = random.randint(1, 100)\n",
        "#Ask for a number\n",
        "user = int(input(\"Give me a number: \"))\n",
        "# Game loop\n",
        "while user != number:\n",
        "    try:\n",
        "        # Check if the guess is correct\n",
        "        if user < number:\n",
        "            print(sc.green(\"↑↑ My number is greater. Try again. ↑↑\"))\n",
        "            user = int(input(\"\\nGive me a number: \"))\n",
        "        else:\n",
        "            print(sc.red(\"↓↓ My number is smaller. Try again. ↓↓\"))\n",
        "            user = int(input(\"\\nGive me a number: \"))\n",
        "    except ValueError:\n",
        "        print(\"Please enter a valid number.\")\n",
        "if user == number:\n",
        "          print(sc.magenta(\"Congratulations! I was thinking in the number: \", 'bold'), number)"
      ],
      "metadata": {
        "id": "m1nzh7fyJzoa"
      },
      "execution_count": null,
      "outputs": []
    },
    {
      "cell_type": "markdown",
      "source": [
        "##Extra"
      ],
      "metadata": {
        "id": "eSSiqQasg49h"
      }
    },
    {
      "cell_type": "markdown",
      "source": [
        "Cooler hangman just for practice:"
      ],
      "metadata": {
        "id": "DMscBDpWZHKH"
      }
    },
    {
      "cell_type": "code",
      "source": [
        "import random\n",
        "from simple_colors import *\n",
        "import simple_colors as sc\n",
        "\n",
        "def draw_hangman(attempts):\n",
        "    hangman_figures = [\n",
        "        \"\"\"\n",
        "           -----\n",
        "           |   |\n",
        "               |\n",
        "               |\n",
        "               |\n",
        "               |\n",
        "        \"\"\",\n",
        "        \"\"\"\n",
        "           -----\n",
        "           |   |\n",
        "           O   |\n",
        "               |\n",
        "               |\n",
        "               |\n",
        "        \"\"\",\n",
        "        \"\"\"\n",
        "           -----\n",
        "           |   |\n",
        "           O   |\n",
        "           |   |\n",
        "               |\n",
        "               |\n",
        "        \"\"\",\n",
        "        \"\"\"\n",
        "           -----\n",
        "           |   |\n",
        "           O   |\n",
        "          /|   |\n",
        "               |\n",
        "               |\n",
        "        \"\"\",\n",
        "        \"\"\"\n",
        "           -----\n",
        "           |   |\n",
        "           O   |\n",
        "          /|\\\\  |\n",
        "               |\n",
        "               |\n",
        "        \"\"\",\n",
        "        \"\"\"\n",
        "           -----\n",
        "           |   |\n",
        "           O   |\n",
        "          /|\\\\  |\n",
        "          /    |\n",
        "               |\n",
        "        \"\"\",\n",
        "        \"\"\"\n",
        "           -----\n",
        "           |   |\n",
        "           O   |\n",
        "          /|\\\\  |\n",
        "          / \\\\  |\n",
        "               |\n",
        "        \"\"\"\n",
        "    ]\n",
        "\n",
        "    if attempts >= 0 and attempts < len(hangman_figures):\n",
        "        print(hangman_figures[attempts])\n",
        "\n",
        "\n",
        "# List of words to choose from\n",
        "wrds = [\"algorithm\", \"machine\", \"learning\", \"neural\", \"network\", \"data\", \"model\",\n",
        "        \"deep\", \"intelligence\", \"recognition\", \"artificial\", \"training\",\n",
        "        \"natural\", \"language\", \"robotics\", \"computer\", \"vision\", \"prediction\"]\n",
        "\n",
        "# Choose a random word from the list\n",
        "word = random.choice(wrds)\n",
        "word = word.lower()  # Convert the word to lowercase for consistency\n",
        "\n",
        "# Initialize variables\n",
        "attempts = 6  # Number of allowed attempts\n",
        "guessed_letters = []\n",
        "correct_letters = [\"_\"] * len(word)\n",
        "\n",
        "# Game loop\n",
        "while attempts >= 0 and \"_\" in correct_letters:\n",
        "    # Display the current state of the word\n",
        "    print(\" \".join(correct_letters))\n",
        "\n",
        "    # Prompt the player for a letter guess\n",
        "    if attempts == 0:\n",
        "      Letter = input(sc.red(\"Last chance: \", 'blink')).lower()\n",
        "    else:\n",
        "      Letter = input(\"Guess a letter: \").lower()\n",
        "\n",
        "    # Check if the guessed letter is valid\n",
        "    if len(Letter) != 1 or not Letter.isalpha():\n",
        "        print(\"Please enter just a single letter.\")\n",
        "        continue\n",
        "\n",
        "    # Check if the letter has already been guessed\n",
        "    if Letter in guessed_letters:\n",
        "        print(sc.blue(\"You've already guessed that letter.\", 'italic'))\n",
        "        continue\n",
        "\n",
        "    guessed_letters.append(Letter)\n",
        "\n",
        "    # Check if the guessed letter is in the word\n",
        "    if Letter in word:\n",
        "        print(sc.cyan(\"Correct!\"))\n",
        "        for i in range(len(word)):\n",
        "            if word[i] == Letter:\n",
        "                correct_letters[i] = Letter\n",
        "    else:\n",
        "        if attempts!= 0:\n",
        "          draw_hangman(6 - attempts)  # Call draw_hangman to display Hangman figure\n",
        "          print(sc.yellow(\"Try another...\"))\n",
        "          attempts -= 1\n",
        "        else:\n",
        "          draw_hangman(6 - attempts)  # Call draw_hangman to display Hangman figure\n",
        "          break\n",
        "\n",
        "\n",
        "# Game over\n",
        "if \"_\" not in correct_letters:\n",
        "    print(sc.green(\"Congratulations! You WIN. Your word:\", 'bold'), word.upper())\n",
        "else:\n",
        "    print(sc.red(\"You LOOSE x_x . The word was:\", 'bold'), word.upper())\n"
      ],
      "metadata": {
        "id": "XJ5i6BS7MHB_"
      },
      "execution_count": null,
      "outputs": []
    },
    {
      "cell_type": "code",
      "source": [],
      "metadata": {
        "id": "6pSuS9IWVoKl"
      },
      "execution_count": null,
      "outputs": []
    }
  ]
}